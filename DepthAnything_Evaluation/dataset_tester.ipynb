{
 "cells": [
  {
   "cell_type": "code",
   "execution_count": 1,
   "metadata": {},
   "outputs": [
    {
     "name": "stderr",
     "output_type": "stream",
     "text": [
      "/home/adam-torek/.local/lib/python3.11/site-packages/tqdm/auto.py:21: TqdmWarning: IProgress not found. Please update jupyter and ipywidgets. See https://ipywidgets.readthedocs.io/en/stable/user_install.html\n",
      "  from .autonotebook import tqdm as notebook_tqdm\n"
     ]
    }
   ],
   "source": [
    "import torch\n",
    "import time\n",
    "from torchvision import transforms\n",
    "import matplotlib.pyplot as plt\n",
    "import numpy as np\n",
    "from dataset_loaders import NYUV2DataSet, DA2KDataSet\n",
    "from loss import eval_depth, eval_accuracy\n",
    "\n",
    "\n",
    "from transformers import HqqConfig\n",
    "from transformers import AutoModelForDepthEstimation, AutoImageProcessor"
   ]
  },
  {
   "cell_type": "code",
   "execution_count": 2,
   "metadata": {},
   "outputs": [],
   "source": [
    "da_data = DA2KDataSet(\"datasets/DA-2K\")"
   ]
  },
  {
   "cell_type": "code",
   "execution_count": 3,
   "metadata": {},
   "outputs": [],
   "source": [
    "example_image = da_data.__getitem__(0)"
   ]
  },
  {
   "cell_type": "code",
   "execution_count": 4,
   "metadata": {},
   "outputs": [],
   "source": [
    "nyuv2_data = NYUV2DataSet(dataset_path=\"datasets/NYUV2\",csv_name=\"nyu2_test.csv\")"
   ]
  },
  {
   "cell_type": "code",
   "execution_count": 5,
   "metadata": {},
   "outputs": [
    {
     "data": {
      "text/plain": [
       "654"
      ]
     },
     "execution_count": 5,
     "metadata": {},
     "output_type": "execute_result"
    }
   ],
   "source": [
    "nyuv2_data.__len__()"
   ]
  },
  {
   "cell_type": "code",
   "execution_count": 6,
   "metadata": {},
   "outputs": [],
   "source": [
    "example_images = nyuv2_data.__getitem__(2)"
   ]
  },
  {
   "cell_type": "code",
   "execution_count": 7,
   "metadata": {},
   "outputs": [
    {
     "data": {
      "text/plain": [
       "torch.Size([1, 518, 518])"
      ]
     },
     "execution_count": 7,
     "metadata": {},
     "output_type": "execute_result"
    }
   ],
   "source": [
    "example_images[1].shape"
   ]
  },
  {
   "cell_type": "code",
   "execution_count": 14,
   "metadata": {},
   "outputs": [],
   "source": [
    "quant_config = HqqConfig(nbits=1)\n",
    "depth_anything_checkpoint = \"LiheYoung/depth-anything-small-hf\"\n",
    "depth_anything_processor = AutoImageProcessor.from_pretrained(depth_anything_checkpoint,\n",
    "                                                               device_map='auto', \n",
    "                                                               quantization_config=quant_config)\n",
    "depth_anything_model = AutoModelForDepthEstimation.from_pretrained(depth_anything_checkpoint, \n",
    "                                                                   device_map='auto', \n",
    "                                                                   quantization_config=quant_config)"
   ]
  },
  {
   "cell_type": "code",
   "execution_count": 15,
   "metadata": {},
   "outputs": [],
   "source": [
    "def get_curr_time_ms():\n",
    "    return int(time.time()*1000)"
   ]
  },
  {
   "cell_type": "code",
   "execution_count": 16,
   "metadata": {},
   "outputs": [],
   "source": [
    "def get_depth_from_model(input_image, image_processor, depth_model):\n",
    "    inputs = image_processor(input_image, return_tensors=\"pt\")\n",
    "   \n",
    "    with torch.no_grad():\n",
    "        if inputs[\"pixel_values\"].device != depth_model.device:\n",
    "            inputs[\"pixel_values\"] = inputs[\"pixel_values\"].to(depth_model.device)\n",
    "        start_time = get_curr_time_ms()\n",
    "        outputs = depth_model(**inputs)\n",
    "        end_time = get_curr_time_ms() - start_time\n",
    "        predicted_depth = outputs.predicted_depth\n",
    "    return predicted_depth, end_time"
   ]
  },
  {
   "cell_type": "markdown",
   "metadata": {},
   "source": [
    "### NYUV2 Data Testing"
   ]
  },
  {
   "cell_type": "code",
   "execution_count": 17,
   "metadata": {},
   "outputs": [],
   "source": [
    "def collect_nyu2_results(nyu2_dataset, image_processor, depth_model):\n",
    "    absrel_scores = []\n",
    "    d1_scores = []\n",
    "    average_inference_ms = []\n",
    "    for i in range(nyu2_dataset.__len__()):\n",
    "        input_image, depth_target = nyu2_dataset.__getitem__(i)\n",
    "        \n",
    "        input_image = input_image.to(depth_model.device)\n",
    "        depth_target = depth_target.to(depth_model.device)\n",
    "        \n",
    "        predicted_depth, inference_ms = get_depth_from_model(input_image, image_processor, depth_model)\n",
    "        average_inference_ms.append(inference_ms)\n",
    "\n",
    "        valid_mask = [predicted_depth >= 0.0001]\n",
    "\n",
    "        eval_results = eval_depth(predicted_depth[valid_mask], depth_target[valid_mask])\n",
    "        absrel_scores.append(eval_results[\"abs_rel\"])\n",
    "        d1_scores.append(eval_results[\"d1\"])\n",
    "\n",
    "    return (sum(absrel_scores) / len(absrel_scores), sum(d1_scores) / len(d1_scores), sum(average_inference_ms) / len(average_inference_ms))"
   ]
  },
  {
   "cell_type": "code",
   "execution_count": 18,
   "metadata": {},
   "outputs": [
    {
     "data": {
      "text/plain": [
       "(0.9976809537009727, 0.0, 27.396024464831804)"
      ]
     },
     "execution_count": 18,
     "metadata": {},
     "output_type": "execute_result"
    }
   ],
   "source": [
    "collect_nyu2_results(nyuv2_data, depth_anything_processor, depth_anything_model)"
   ]
  },
  {
   "cell_type": "code",
   "execution_count": null,
   "metadata": {},
   "outputs": [],
   "source": [
    "inputs = depth_anything_processor(images=example_images[0], return_tensors=\"pt\")\n",
    "with torch.no_grad():\n",
    "    outputs = depth_anything_model(**inputs)\n",
    "    predicted_depth = outputs.predicted_depth"
   ]
  },
  {
   "cell_type": "code",
   "execution_count": null,
   "metadata": {},
   "outputs": [],
   "source": [
    "np.swapaxes(example_images[0].squeeze().cpu().numpy(),2,0).shape"
   ]
  },
  {
   "cell_type": "code",
   "execution_count": null,
   "metadata": {},
   "outputs": [],
   "source": [
    "predicted_depth.dtype"
   ]
  },
  {
   "cell_type": "code",
   "execution_count": null,
   "metadata": {},
   "outputs": [],
   "source": [
    "example_images[1].dtype"
   ]
  },
  {
   "cell_type": "code",
   "execution_count": null,
   "metadata": {},
   "outputs": [],
   "source": [
    "f, axarr = plt.subplots(1,3)\n",
    "axarr[0].imshow(transforms.ToPILImage()(example_images[0]))\n",
    "axarr[1].imshow(example_images[1].squeeze().cpu().numpy())\n",
    "axarr[2].imshow(predicted_depth.squeeze().cpu().numpy())\n",
    "plt.show()"
   ]
  },
  {
   "cell_type": "code",
   "execution_count": null,
   "metadata": {},
   "outputs": [],
   "source": [
    "eval_depth(predicted_depth, example_images[1])"
   ]
  },
  {
   "cell_type": "markdown",
   "metadata": {},
   "source": [
    "### DA-2K Data Testing"
   ]
  },
  {
   "cell_type": "code",
   "execution_count": null,
   "metadata": {},
   "outputs": [],
   "source": [
    "def collect_da2K_results(da2k_dataset, image_processor, depth_model):\n",
    "    closer_match = []\n",
    "    average_inference_ms = []\n",
    "    for i in range(da2k_dataset.__len__()):\n",
    "        da2k_image_data = da2k_dataset.__getitem__(i)\n",
    "        input_image = da2k_image_data[\"image\"]\n",
    "        resizer = transforms.Resize(size=input_image.size)\n",
    "        predicted_depth, inference_ms = get_depth_from_model(input_image, image_processor, depth_model)\n",
    "        predicted_depth = resizer(predicted_depth).squeeze().cpu()\n",
    "        average_inference_ms.append(inference_ms)\n",
    "        closer_match.append(eval_accuracy(predicted_depth, da2k_image_data[\"points\"], da2k_image_data[\"closer_point\"]))\n",
    "\n",
    "\n",
    "    return (sum([1 if x is True else 0 for x in closer_match]) / len(closer_match), sum(average_inference_ms) / len(average_inference_ms))"
   ]
  },
  {
   "cell_type": "code",
   "execution_count": null,
   "metadata": {},
   "outputs": [],
   "source": [
    "collect_da2K_results(da_data, depth_anything_processor, depth_anything_model)"
   ]
  },
  {
   "cell_type": "markdown",
   "metadata": {},
   "source": [
    "### Testing Different Model Quantizations and No Quantizations"
   ]
  },
  {
   "cell_type": "code",
   "execution_count": null,
   "metadata": {},
   "outputs": [],
   "source": []
  },
  {
   "cell_type": "code",
   "execution_count": null,
   "metadata": {},
   "outputs": [],
   "source": [
    "def run_nyu_da2K_quantization_tests(da_data, nyuv2_data, model_weights, quant_configs):\n",
    "    config_trials = {}\n",
    "    csv_string = \"quantization_state, abs_rel, d1, accuracy, nyu2_time, da2k_time, model_size \\n\"\n",
    "    for config_name, config in quant_configs.items():\n",
    "        torch._C._cuda_clearCublasWorkspaces()\n",
    "        image_processor = AutoImageProcessor.from_pretrained(model_weights, quantization_config=config, device_map=\"auto\")\n",
    "        depth_model = AutoModelForDepthEstimation.from_pretrained(model_weights, quantization_config=config, device_map=\"auto\")\n",
    "        model_size = torch.cuda.memory_allocated() / 1024**2\n",
    "\n",
    "        abs_rel, d1, nyu2_time = collect_nyu2_results(nyuv2_data, image_processor, depth_model)\n",
    "        accuracy, da2k_time = collect_da2K_results(da_data, image_processor, depth_model)\n",
    "        config_trials[config_name] = {\"abs_rel\":abs_rel, \n",
    "                                      \"d1\":d1, \"accuracy\":accuracy, \n",
    "                                      \"nyu2_time\":nyu2_time, \n",
    "                                      \"da2k_time\":da2k_time, \n",
    "                                      \"model_size\":model_size\n",
    "                                    }\n",
    "\n",
    "        csv_string += config_name + \", \" +\\\n",
    "                      str(abs_rel) + \", \" +\\\n",
    "                      str(d1) + \", \" +\\\n",
    "                      str(accuracy) + \", \" +\\\n",
    "                      str(nyu2_time) + \", \" +\\\n",
    "                      str(da2k_time) + \", \" +\\\n",
    "                      str(model_size) + \"\\n\"\n",
    "    \n",
    "    return config_trials, csv_string"
   ]
  },
  {
   "cell_type": "code",
   "execution_count": null,
   "metadata": {},
   "outputs": [],
   "source": [
    "configs_to_run = {\"no_quantization\":None ,\n",
    "                  \"hqq_8bit\":HqqConfig(weights=\"int8\", group_size=64), \n",
    "                  \"hqq_4bit\":HqqConfig(weights=\"int4\", group_size=64)\n",
    "                  }\n",
    "\n",
    "results_json, results_csv = run_nyu_da2K_quantization_tests(da_data=da_data, nyuv2_data=nyuv2_data, model_weights=depth_anything_checkpoint, quant_configs=configs_to_run)"
   ]
  },
  {
   "cell_type": "code",
   "execution_count": null,
   "metadata": {},
   "outputs": [],
   "source": [
    "print(results_json)\n",
    "print(results_csv)"
   ]
  },
  {
   "cell_type": "code",
   "execution_count": null,
   "metadata": {},
   "outputs": [],
   "source": []
  }
 ],
 "metadata": {
  "kernelspec": {
   "display_name": "duckiebot",
   "language": "python",
   "name": "python3"
  },
  "language_info": {
   "codemirror_mode": {
    "name": "ipython",
    "version": 3
   },
   "file_extension": ".py",
   "mimetype": "text/x-python",
   "name": "python",
   "nbconvert_exporter": "python",
   "pygments_lexer": "ipython3",
   "version": "3.11.10"
  }
 },
 "nbformat": 4,
 "nbformat_minor": 2
}
